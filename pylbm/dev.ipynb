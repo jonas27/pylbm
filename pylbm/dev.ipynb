{
 "cells": [
  {
   "cell_type": "code",
   "execution_count": 1,
   "metadata": {},
   "outputs": [],
   "source": [
    "\n",
    "from pylbm import lbm\n",
    "import numpy as np\n",
    "np.set_printoptions(formatter={'float': lambda x: \"{0:0.3f}\".format(x)})\n"
   ]
  },
  {
   "cell_type": "code",
   "execution_count": 110,
   "metadata": {},
   "outputs": [],
   "source": [
    "eps = 0.01\n",
    "r_value = 0.5\n",
    "i_dim, j_dim, v_dim = 5, 10, 9\n",
    "omega = .3\n",
    "r_ij = lbm.rho_init(i_dim=i_dim, j_dim=j_dim, r_mean=r_value, eps=eps)\n",
    "u_ija = lbm.local_avg_velocity_init(i_dim=i_dim, j_dim=j_dim, u_mean=0.5, eps=0.01)\n",
    "f_ijc = lbm.f_eq(u_ija=u_ija, r_ij=r_ij)\n"
   ]
  },
  {
   "cell_type": "code",
   "execution_count": null,
   "metadata": {},
   "outputs": [],
   "source": [
    "\n"
   ]
  },
  {
   "cell_type": "code",
   "execution_count": 111,
   "metadata": {},
   "outputs": [
    {
     "name": "stdout",
     "output_type": "stream",
     "text": [
      "[[[0.500 0.507 0.510 0.507 0.500]\n",
      "  [0.500 0.507 0.510 0.507 0.500]\n",
      "  [0.500 0.507 0.510 0.507 0.500]\n",
      "  [0.500 0.507 0.510 0.507 0.500]\n",
      "  [0.500 0.507 0.510 0.507 0.500]\n",
      "  [0.500 0.507 0.510 0.507 0.500]\n",
      "  [0.500 0.507 0.510 0.507 0.500]\n",
      "  [0.500 0.507 0.510 0.507 0.500]\n",
      "  [0.500 0.507 0.510 0.507 0.500]\n",
      "  [0.500 0.507 0.510 0.507 0.500]]\n",
      "\n",
      " [[0.500 0.507 0.510 0.507 0.500]\n",
      "  [0.500 0.507 0.510 0.507 0.500]\n",
      "  [0.500 0.507 0.510 0.507 0.500]\n",
      "  [0.500 0.507 0.510 0.507 0.500]\n",
      "  [0.500 0.507 0.510 0.507 0.500]\n",
      "  [0.500 0.507 0.510 0.507 0.500]\n",
      "  [0.500 0.507 0.510 0.507 0.500]\n",
      "  [0.500 0.507 0.510 0.507 0.500]\n",
      "  [0.500 0.507 0.510 0.507 0.500]\n",
      "  [0.500 0.507 0.510 0.507 0.500]]]\n",
      "new\n",
      "[[[-3.364 -0.078 0.947 0.661 -1.007]\n",
      "  [-1.113 0.036 0.649 -0.636 -3.872]\n",
      "  [7.669 0.932 -0.929 0.058 -3.643]\n",
      "  [-0.247 1.949 -0.956 0.442 0.120]\n",
      "  [-1.573 1.723 0.101 0.535 0.497]\n",
      "  [-1.422 -0.012 -0.751 0.370 0.226]\n",
      "  [-1.263 -1.042 -0.018 0.158 0.891]\n",
      "  [-0.940 -0.019 0.356 -0.046 0.284]\n",
      "  [-2.025 -0.076 -0.366 0.080 0.983]\n",
      "  [-1.005 -0.586 0.706 -0.010 -1.007]]\n",
      "\n",
      " [[0.002 0.029 0.006 1.083 0.044]\n",
      "  [1.214 1.019 0.806 0.035 4.541]\n",
      "  [-9.751 0.174 -0.076 1.816 4.322]\n",
      "  [0.229 -0.265 0.385 -0.164 0.152]\n",
      "  [-1.066 -1.555 -0.987 0.075 -0.226]\n",
      "  [-0.323 0.247 0.611 -1.102 0.410]\n",
      "  [-0.316 3.279 -0.079 0.883 0.088]\n",
      "  [-0.019 0.179 -0.329 -0.665 0.319]\n",
      "  [3.509 0.023 1.250 0.134 0.976]\n",
      "  [-0.989 -0.639 -0.644 -0.619 -1.226]]]\n"
     ]
    }
   ],
   "source": [
    "epochs =1500\n",
    "\n",
    "print(u_ija.T)\n",
    "for _ in range(epochs):\n",
    "    f_ijc = lbm.stream(f_ijc=f_ijc)\n",
    "    f_ijc, u_ija = lbm.collision(f_ijc=f_ijc, omega=omega)\n",
    "print(\"new\")\n",
    "print(u_ija.T)"
   ]
  },
  {
   "cell_type": "code",
   "execution_count": null,
   "metadata": {},
   "outputs": [],
   "source": []
  }
 ],
 "metadata": {
  "interpreter": {
   "hash": "fc639d457c6382e7e0c6fefa32aeb4748843c0c34b760fb24ddd57087e5cd928"
  },
  "kernelspec": {
   "display_name": "Python 3.9.12 ('high')",
   "language": "python",
   "name": "python3"
  },
  "language_info": {
   "codemirror_mode": {
    "name": "ipython",
    "version": 3
   },
   "file_extension": ".py",
   "mimetype": "text/x-python",
   "name": "python",
   "nbconvert_exporter": "python",
   "pygments_lexer": "ipython3",
   "version": "3.9.12"
  },
  "orig_nbformat": 4
 },
 "nbformat": 4,
 "nbformat_minor": 2
}
