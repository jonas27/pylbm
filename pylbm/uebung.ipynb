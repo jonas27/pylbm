{
 "cells": [
  {
   "cell_type": "code",
   "execution_count": 1,
   "metadata": {},
   "outputs": [],
   "source": [
    "import numpy as np\n",
    "import matplotlib.pyplot as plt"
   ]
  },
  {
   "cell_type": "markdown",
   "metadata": {},
   "source": [
    "### Amplitude\n",
    "Amplitude variation/ density probability should be low. \n",
    "At 1 we have a super high pressure.\n",
    "\n",
    "\n",
    "### Velocity\n",
    "Choose velcoity in range 0-1 in sin wave. \n",
    "Velocity should never be >0.1, as 0.33 already goes near speed of sound and algo is not stable above speed of sound.\n",
    "\n",
    "### Decay\n",
    "eps = 2*pi/L_y\n",
    "\n",
    "### Shear Wave decay\n",
    "Has to look like curve. x=t, y=a(t)/roh\n",
    "\n",
    "Show that there is more or less a exponential decay in e\n",
    " - take different points on curve\n",
    "\n",
    "### Relaxation rate\n",
    "Sets the viscosity as well.\n",
    "\n",
    "### Omega\n",
    "$0<Omega<1.7$  \n",
    "\n",
    "$if omega>1.7$ --> $f<0$: density goes below 0. (Can be used in airflows.)\n",
    "\n",
    "$Omega=0$ --> not really possible, as divition by 0.\n",
    "\n",
    "## Limit\n",
    "Velocity change: 1\n",
    "\n",
    "Density change: 100\n",
    "\n",
    "### Boundry\n",
    "Only top layer has the same velocity as boundry because of boundry condition.\n",
    "\n",
    "Times it needs for couette flow depends on omega which controls viscocity.\n",
    "\n",
    "### Test\n",
    "Increase density at one point and see what happens"
   ]
  },
  {
   "cell_type": "markdown",
   "metadata": {},
   "source": []
  }
 ],
 "metadata": {
  "interpreter": {
   "hash": "fc639d457c6382e7e0c6fefa32aeb4748843c0c34b760fb24ddd57087e5cd928"
  },
  "kernelspec": {
   "display_name": "Python 3.9.12 ('high')",
   "language": "python",
   "name": "python3"
  },
  "language_info": {
   "codemirror_mode": {
    "name": "ipython",
    "version": 3
   },
   "file_extension": ".py",
   "mimetype": "text/x-python",
   "name": "python",
   "nbconvert_exporter": "python",
   "pygments_lexer": "ipython3",
   "version": "3.9.12"
  },
  "orig_nbformat": 4
 },
 "nbformat": 4,
 "nbformat_minor": 2
}
