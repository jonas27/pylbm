{
 "cells": [
  {
   "cell_type": "code",
   "execution_count": 1,
   "metadata": {},
   "outputs": [],
   "source": [
    "import cProfile\n",
    "import logging\n",
    "\n",
    "import numpy as np\n",
    "from pylbm import lbm\n",
    "import matplotlib.pyplot as plt\n",
    "\n",
    "# logging.basicConfig(level=logging.DEBUG)\n",
    "# log = logging.getLogger()"
   ]
  },
  {
   "cell_type": "code",
   "execution_count": 3,
   "metadata": {},
   "outputs": [
    {
     "name": "stdout",
     "output_type": "stream",
     "text": [
      "[[[0.51236829 0.50225118 0.49563584 0.5066593  0.49983167 0.50849984\n",
      "   0.51348108 0.50529084 0.48084603 0.49023464]\n",
      "  [0.49479717 0.49226406 0.49916281 0.51301361 0.49270568 0.4898437\n",
      "   0.49189809 0.48273912 0.51114726 0.49491705]\n",
      "  [0.51740119 0.4972223  0.49130751 0.4962271  0.50186384 0.5376901\n",
      "   0.49632763 0.49019518 0.49638702 0.49801611]\n",
      "  [0.50270659 0.48732143 0.48825404 0.48528849 0.49057756 0.49952076\n",
      "   0.51596941 0.4920113  0.49257915 0.50293405]\n",
      "  [0.50947179 0.50590301 0.51086059 0.49071086 0.47831716 0.48090576\n",
      "   0.48821161 0.4902832  0.49756001 0.50027174]]\n",
      "\n",
      " [[0.50344116 0.49395616 0.49865779 0.4866428  0.49525374 0.50455803\n",
      "   0.5084099  0.49663116 0.50792184 0.50379166]\n",
      "  [0.52362732 0.49575658 0.49302631 0.52528701 0.48735573 0.48671797\n",
      "   0.50192191 0.51295274 0.50965611 0.50118032]\n",
      "  [0.50609786 0.50205057 0.50190758 0.50401119 0.50607964 0.49420863\n",
      "   0.50529628 0.48679989 0.49963395 0.50734049]\n",
      "  [0.48932609 0.5008572  0.49703056 0.49344138 0.50072624 0.50394782\n",
      "   0.50314901 0.50173652 0.48796945 0.49008551]\n",
      "  [0.49921002 0.50919357 0.50083194 0.50360469 0.50406552 0.49191206\n",
      "   0.48419264 0.51159379 0.519919   0.50182193]]]\n",
      "[[[ 4.48516368e-01  8.52786014e-01 -2.41833138e+00  2.55685964e-02\n",
      "    7.88896565e-02 -5.52013285e-01  1.39985775e-01  2.09790225e+01\n",
      "   -4.46615229e+02  2.00129236e-02]\n",
      "  [-2.03572395e+01 -1.83459270e+00  9.37787306e-01  4.19239118e+00\n",
      "   -2.99285668e-01 -1.56797390e-01  8.51543136e-01 -5.09444529e-01\n",
      "    1.39850176e+00  3.65113755e+00]\n",
      "  [-5.66744930e-02 -7.90738740e-01 -1.10038665e+00 -2.57414552e-01\n",
      "    5.20661515e-01  1.92540292e-01  4.47028053e-01 -1.10181858e+01\n",
      "   -1.75042010e-01  2.39675101e-01]\n",
      "  [-1.31016828e-02  3.93825979e-01  1.04352378e+00  2.45696311e-01\n",
      "   -3.52796242e-01  6.82583921e-01 -8.41643983e-01  4.07756210e+00\n",
      "   -9.37206710e-01 -7.59439977e+00]\n",
      "  [-2.56265418e-01  1.28241482e+02 -1.16799930e+00  3.68267416e-01\n",
      "    4.26744413e-01  2.00337296e-02  1.90273253e+00  8.56670893e-01\n",
      "    3.37421962e-01 -4.44478576e+00]]\n",
      "\n",
      " [[ 6.57168881e-01 -8.14442190e-01 -4.08749859e+00  2.23188518e-01\n",
      "    9.61935009e-02  1.44686093e-01  5.59938348e-01  1.52801919e+00\n",
      "   -5.18493398e+02 -2.30345770e-02]\n",
      "  [-1.64003128e-01 -5.73163465e+00 -8.61388306e-01 -1.36475708e+00\n",
      "   -8.11792719e-02  2.98211011e-01  1.82059818e+00  3.06092903e-01\n",
      "   -9.30004053e-01  5.49669531e-01]\n",
      "  [-1.25300373e-01  8.48725960e-02  1.71078938e+00 -1.48105456e-01\n",
      "   -1.64082089e+00  4.01707959e+00  7.21350676e-01  2.09054870e+00\n",
      "    6.30998547e-02 -1.59680822e-01]\n",
      "  [-3.60823992e-01  3.25598381e-01 -1.69522430e-01  1.04626643e-02\n",
      "    5.78373135e-01  6.03038007e-01 -4.44872063e-01 -1.02413523e+00\n",
      "   -1.04546767e+00 -1.36608541e+00]\n",
      "  [ 4.14222610e-01 -1.88017139e+02 -6.12931082e-01 -3.10690769e-01\n",
      "    3.07472439e-01  1.39107961e-01 -5.39760473e+00  9.29679672e-02\n",
      "   -2.11345183e-01  1.69448383e+00]]]\n"
     ]
    }
   ],
   "source": [
    "eps = 0.01\n",
    "r_mean, u_mean = 0.5, 0.5\n",
    "x_dim, y_dim = 5, 10\n",
    "omega = 2\n",
    "epochs = 300\n",
    "r_ij = lbm.density_init(x_dim=x_dim, y_dim=y_dim, r_mean=r_mean, eps=eps)\n",
    "u_aij = lbm.local_avg_velocity_init(x_dim=x_dim, y_dim=y_dim, u_mean=u_mean, eps=eps)\n",
    "f_cij = lbm.f_eq(u_axy=u_aij, r_xy=r_ij)\n",
    "\n",
    "print(u_aij)\n",
    "for _ in range(epochs):\n",
    "    f_cij = lbm.stream(f_cxy=f_cij)\n",
    "    f_cij, u_aij = lbm.collision(f_cxy=f_cij, omega=omega)\n",
    "print(u_aij)"
   ]
  },
  {
   "cell_type": "code",
   "execution_count": 15,
   "metadata": {},
   "outputs": [
    {
     "data": {
      "image/png": "[encoded data removed]",
      "text/plain": [
       "<Figure size 1080x360 with 9 Axes>"
      ]
     },
     "metadata": {
      "needs_background": "light"
     },
     "output_type": "display_data"
    }
   ],
   "source": [
    "\"\"\"test what happens when the local density is increased in the center\n",
    "\n",
    "Results:\n",
    "    min local density decreases over time\n",
    "    max local density first decreases then increases over time over initial max\n",
    "    the density mainly follows a diagonal direction upwards direction and is rotated at the grid end\n",
    "\"\"\"\n",
    "\n",
    "eps = 0.01\n",
    "r_mean, u_mean = 0.5, 0.5\n",
    "x_dim, y_dim = 5, 4\n",
    "omega = 0.1\n",
    "multiplier = 100\n",
    "epochs = 4 * multiplier\n",
    "\n",
    "font_size = 20\n",
    "plt.rc('axes', titlesize=font_size)\n",
    "plt.rc('axes', labelsize=font_size)\n",
    "fig, ax = plt.subplots(figsize=(15,5))\n",
    "plt.axis('off')\n",
    "axs = fig.subplots(nrows=2, ncols=epochs// multiplier)\n",
    "\n",
    "r_ij = lbm.density_init(x_dim=x_dim, y_dim=y_dim, r_mean=r_mean, eps=eps)\n",
    "# increase local density in the center\n",
    "r_ij[int(x_dim / 2 - 1) : int(x_dim / 2 + 1), int(y_dim / 2 - 1) : int(y_dim / 2 + 1)] = 0.9\n",
    "u_aij = lbm.local_avg_velocity_init(x_dim=x_dim, y_dim=y_dim, u_mean=u_mean, eps=eps)\n",
    "f_cij = lbm.f_eq(u_axy=u_aij, r_xy=r_ij)\n",
    "for e in range(epochs):\n",
    "    if e %  multiplier == 0:\n",
    "        for i in range(2):\n",
    "            ax = axs[i,e//multiplier]\n",
    "            ax.grid(False)\n",
    "            ax.set_xticks(np.arange(x_dim))\n",
    "            ax.set_yticks(np.arange(y_dim).T)\n",
    "            ax.set_xlabel(\"x axis\")\n",
    "            ax.set_ylabel(\"y axis\")\n",
    "            data = u_aij[i, :, :].T\n",
    "            ax.pcolor(data, cmap=plt.cm.Reds)\n",
    "\n",
    "    # f_cij = lbm.stream(f_cxy=f_cij)\n",
    "    f_cij, u_aij = lbm.collision(f_cxy=f_cij, omega=omega)\n",
    "\n",
    "fig.tight_layout()\n",
    "# lbm.save_fig(fig, 'm3-streaming.pgf')\n",
    "plt.show(fig)\n",
    "plt.close()"
   ]
  },
  {
   "cell_type": "code",
   "execution_count": null,
   "metadata": {},
   "outputs": [],
   "source": []
  }
 ],
 "metadata": {
  "kernelspec": {
   "display_name": "Python 3.9.12 ('high')",
   "language": "python",
   "name": "python3"
  },
  "language_info": {
   "codemirror_mode": {
    "name": "ipython",
    "version": 3
   },
   "file_extension": ".py",
   "mimetype": "text/x-python",
   "name": "python",
   "nbconvert_exporter": "python",
   "pygments_lexer": "ipython3",
   "version": "3.9.12"
  },
  "orig_nbformat": 4,
  "vscode": {
   "interpreter": {
    "hash": "fc639d457c6382e7e0c6fefa32aeb4748843c0c34b760fb24ddd57087e5cd928"
   }
  }
 },
 "nbformat": 4,
 "nbformat_minor": 2
}
