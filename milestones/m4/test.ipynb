{
 "cells": [
  {
   "cell_type": "code",
   "execution_count": 1,
   "metadata": {},
   "outputs": [],
   "source": [
    "import logging\n",
    "\n",
    "import matplotlib.pyplot as plt\n",
    "import numpy as np\n",
    "from pylbm import lbm\n",
    "from scipy.optimize import curve_fit"
   ]
  },
  {
   "cell_type": "code",
   "execution_count": 2,
   "metadata": {},
   "outputs": [],
   "source": [
    "%matplotlib inline\n",
    "np.set_printoptions(precision=5, suppress=True)\n",
    "\n",
    "epochs = 201\n",
    "eps = 0.01\n",
    "omegas = np.arange(0.1, 1.51, 0.2).round(decimals=1)\n",
    "omega = 0.5\n",
    "i_dim, j_dim = 60, 50\n",
    "x = np.arange(i_dim)\n",
    "y = np.arange(j_dim)\n",
    "X, Y = np.meshgrid(x, y)"
   ]
  },
  {
   "cell_type": "code",
   "execution_count": 3,
   "metadata": {},
   "outputs": [
    {
     "data": {
      "text/plain": [
       "[('apply_boundries',\n",
       "  <function pylbm.lbm.apply_boundries(f_cij: <built-in function array>, f_cij_old: <built-in function array>, boundries: <built-in function array>) -> <built-in function array>>),\n",
       " ('apply_sliding_top_boundry',\n",
       "  <function pylbm.lbm.apply_sliding_top_boundry(f_cij: <built-in function array>, f_cij_old: <built-in function array>, velocity: float) -> <built-in function array>>),\n",
       " ('collision',\n",
       "  <function pylbm.lbm.collision(f_cij: <built-in function array>, omega: float) -> Tuple[<built-in function array>, <built-in function array>]>),\n",
       " ('dataclass',\n",
       "  <function dataclasses.dataclass(cls=None, /, *, init=True, repr=True, eq=True, order=False, unsafe_hash=False, frozen=False)>),\n",
       " ('f_eq',\n",
       "  <function pylbm.lbm.f_eq(u_aij: <built-in function array>, r_ij: <built-in function array>) -> <built-in function array>>),\n",
       " ('local_avg_velocity',\n",
       "  <function pylbm.lbm.local_avg_velocity(f_cij: <built-in function array>, r_ij: <built-in function array>) -> <built-in function array>>),\n",
       " ('local_avg_velocity_init',\n",
       "  <function pylbm.lbm.local_avg_velocity_init(i_dim, j_dim, u_mean: float, eps: float)>),\n",
       " ('make_boundries',\n",
       "  <function pylbm.lbm.make_boundries(i_dim, j_dim, north: bool, east: bool, south: bool, west: bool) -> <built-in function array>>),\n",
       " ('rho',\n",
       "  <function pylbm.lbm.rho(f_cij: <built-in function array>) -> <built-in function array>>),\n",
       " ('rho_init',\n",
       "  <function pylbm.lbm.rho_init(i_dim: int, j_dim: int, r_mean: float = 0.5, eps: float = 0.01) -> <built-in function array>>),\n",
       " ('stream',\n",
       "  <function pylbm.lbm.stream(f_cij: <built-in function array>) -> <built-in function array>>)]"
      ]
     },
     "execution_count": 3,
     "metadata": {},
     "output_type": "execute_result"
    }
   ],
   "source": [
    "from inspect import getmembers, isfunction\n",
    "\n",
    "getmembers(lbm, isfunction)\n"
   ]
  },
  {
   "cell_type": "code",
   "execution_count": null,
   "metadata": {},
   "outputs": [],
   "source": []
  }
 ],
 "metadata": {
  "interpreter": {
   "hash": "fc639d457c6382e7e0c6fefa32aeb4748843c0c34b760fb24ddd57087e5cd928"
  },
  "kernelspec": {
   "display_name": "Python 3.9.12 ('high')",
   "language": "python",
   "name": "python3"
  },
  "language_info": {
   "codemirror_mode": {
    "name": "ipython",
    "version": 3
   },
   "file_extension": ".py",
   "mimetype": "text/x-python",
   "name": "python",
   "nbconvert_exporter": "python",
   "pygments_lexer": "ipython3",
   "version": "3.9.12"
  },
  "orig_nbformat": 4
 },
 "nbformat": 4,
 "nbformat_minor": 2
}
