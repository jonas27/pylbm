{
 "cells": [
  {
   "cell_type": "code",
   "execution_count": 16,
   "metadata": {},
   "outputs": [
    {
     "name": "stdout",
     "output_type": "stream",
     "text": [
      "2 nodes and 2 cpus \t 00:06:25\n",
      "\n",
      "2 nodes and 8 cpus \t 00:02:41\n",
      "\n",
      "2 nodes and 18 cpus \t 00:01:51\n",
      "\n",
      "2 nodes and 32 cpus \t 00:01:30\n",
      "\n",
      "4 nodes and 1 cpus \t 00:05:19\n",
      "\n",
      "4 nodes and 4 cpus \t 00:02:08\n",
      "\n",
      "4 nodes and 9 cpus \t 00:01:41\n",
      "\n",
      "4 nodes and 16 cpus \t 00:01:27\n",
      "\n",
      "4 nodes and 25 cpus \t 00:01:21\n",
      "\n",
      "4 nodes and 36 cpus \t 00:01:17\n",
      "\n"
     ]
    }
   ],
   "source": [
    "combinations = [(2, (2,8, 18, 32)),(4,(1,4, 9, 16, 25, 36))]\n",
    "for comb in combinations:\n",
    "    for cpu in comb[1]:\n",
    "        path ='{}_nodes/slurm_nodes_{}_ntasks_{}.out'.format(comb[0],comb[0], cpu)\n",
    "        with open(path, 'r') as reader:\n",
    "            # Read and print the entire file line by line\n",
    "            line = reader.readline()\n",
    "            while line != '':  # The EOF char is an empty string\n",
    "                if \"Wall-clock\" in line:\n",
    "                    line = line.split(\": \")[1]\n",
    "                    print(\"{} nodes and {} cpus \\t {}\".format(comb[0], cpu,line))\n",
    "                line = reader.readline()"
   ]
  },
  {
   "cell_type": "code",
   "execution_count": null,
   "metadata": {},
   "outputs": [],
   "source": []
  }
 ],
 "metadata": {
  "kernelspec": {
   "display_name": "Python 3.9.12 ('high')",
   "language": "python",
   "name": "python3"
  },
  "language_info": {
   "codemirror_mode": {
    "name": "ipython",
    "version": 3
   },
   "file_extension": ".py",
   "mimetype": "text/x-python",
   "name": "python",
   "nbconvert_exporter": "python",
   "pygments_lexer": "ipython3",
   "version": "3.9.12"
  },
  "orig_nbformat": 4,
  "vscode": {
   "interpreter": {
    "hash": "fc639d457c6382e7e0c6fefa32aeb4748843c0c34b760fb24ddd57087e5cd928"
   }
  }
 },
 "nbformat": 4,
 "nbformat_minor": 2
}
