{
 "cells": [
  {
   "cell_type": "code",
   "execution_count": 2,
   "metadata": {},
   "outputs": [
    {
     "name": "stdout",
     "output_type": "stream",
     "text": [
      "[0, 1]\n"
     ]
    }
   ],
   "source": [
    "import ipyparallel as ipp\n",
    "c = ipp.Client()\n",
    "print(c.ids)"
   ]
  },
  {
   "cell_type": "code",
   "execution_count": 3,
   "metadata": {},
   "outputs": [],
   "source": [
    "%%px\n",
    "import numpy as np\n",
    "\n",
    "from mpi4py import MPI\n",
    "from pylbm import lbm\n",
    "from typing import Tuple\n"
   ]
  },
  {
   "cell_type": "code",
   "execution_count": 4,
   "metadata": {},
   "outputs": [],
   "source": [
    "%%px\n",
    "def save_mpiio(comm: MPI.Cartcomm, fn, g_kl):\n",
    "    \"\"\"\n",
    "    Write a global two-dimensional array to a single file in the npy format\n",
    "    using MPI I/O: https://docs.scipy.org/doc/numpy/neps/npy-format.html\n",
    "\n",
    "    Arrays written with this function can be read with numpy.load.\n",
    "\n",
    "    Parameters\n",
    "    ----------\n",
    "    comm\n",
    "        MPI communicator.\n",
    "    fn : str\n",
    "        File name.\n",
    "    g_kl : array_like\n",
    "        Portion of the array on this MPI processes. This needs to be a\n",
    "        two-dimensional array.\n",
    "    \"\"\"\n",
    "    from numpy.lib.format import dtype_to_descr, magic\n",
    "    magic_str = magic(1, 0)\n",
    "\n",
    "    local_nx, local_ny = g_kl.shape\n",
    "    nx = np.empty_like(local_nx)\n",
    "    ny = np.empty_like(local_ny)\n",
    "\n",
    "    commx = comm.Sub((True, False))\n",
    "    commy = comm.Sub((False, True))\n",
    "    commx.Allreduce(np.asarray(local_nx), nx)\n",
    "    commy.Allreduce(np.asarray(local_ny), ny)\n",
    "\n",
    "    arr_dict_str = str({ 'descr': dtype_to_descr(g_kl.dtype),\n",
    "                         'fortran_order': False,\n",
    "                         'shape': (np.asscalar(nx), np.asscalar(ny)) })\n",
    "    while (len(arr_dict_str) + len(magic_str) + 2) % 16 != 15:\n",
    "        arr_dict_str += ' '\n",
    "    arr_dict_str += '\\n'\n",
    "    header_len = len(arr_dict_str) + len(magic_str) + 2\n",
    "\n",
    "    offsetx = np.zeros_like(local_nx)\n",
    "    commx.Exscan(np.asarray(ny*local_nx), offsetx)\n",
    "    offsety = np.zeros_like(local_ny)\n",
    "    commy.Exscan(np.asarray(local_ny), offsety)\n",
    "\n",
    "    file = MPI.File.Open(comm, fn, MPI.MODE_CREATE | MPI.MODE_WRONLY)\n",
    "    if comm.Get_rank() == 0:\n",
    "        file.Write(magic_str)\n",
    "        file.Write(np.int16(len(arr_dict_str)))\n",
    "        file.Write(arr_dict_str.encode('latin-1'))\n",
    "    mpitype = MPI._typedict[g_kl.dtype.char]\n",
    "    filetype = mpitype.Create_vector(g_kl.shape[0], g_kl.shape[1], ny)\n",
    "    filetype.Commit()\n",
    "    file.Set_view(header_len + (offsety+offsetx)*mpitype.Get_size(),\n",
    "                  filetype=filetype)\n",
    "    file.Write_all(g_kl.copy())\n",
    "    filetype.Free()\n",
    "    file.Close()\n"
   ]
  },
  {
   "cell_type": "code",
   "execution_count": 5,
   "metadata": {},
   "outputs": [
    {
     "data": {
      "text/plain": [
       "[stdout:0] Rank 0 of 2 is alive.\n"
      ]
     },
     "metadata": {},
     "output_type": "display_data"
    },
    {
     "data": {
      "text/plain": [
       "[stdout:1] Rank 1 of 2 is alive.\n"
      ]
     },
     "metadata": {},
     "output_type": "display_data"
    }
   ],
   "source": [
    "%%px\n",
    "comm = MPI.COMM_WORLD\n",
    "print('Rank {} of {} is alive.'.format(comm.Get_rank(), comm.Get_size()))"
   ]
  },
  {
   "cell_type": "code",
   "execution_count": 10,
   "metadata": {},
   "outputs": [],
   "source": [
    "%%px\n",
    "size = comm.Get_size()"
   ]
  },
  {
   "cell_type": "code",
   "execution_count": 25,
   "metadata": {},
   "outputs": [],
   "source": [
    "%%px\n",
    "org_x_dim =30\n",
    "org_y_dim = 30\n",
    "epochs = 1000\n",
    "omega = 1.7\n",
    "top_vel = .1\n",
    "x_sects = int(np.floor(np.sqrt(size)))\n",
    "y_sects = int(size/x_sects)\n",
    "sync_rows = x_sects\n",
    "sync_cols =y_sects"
   ]
  },
  {
   "cell_type": "code",
   "execution_count": 26,
   "metadata": {},
   "outputs": [],
   "source": [
    "%%px\n",
    "cartcomm = comm.Create_cart(dims=[x_sects,y_sects], periods=(False, False), reorder=False)"
   ]
  },
  {
   "cell_type": "code",
   "execution_count": 27,
   "metadata": {},
   "outputs": [
    {
     "data": {
      "text/plain": [
       "[stdout:0] 101.99999999999997\n"
      ]
     },
     "metadata": {},
     "output_type": "display_data"
    }
   ],
   "source": [
    "%%px\n",
    "if cartcomm.Get_rank() == 0:\n",
    "    print(lbm.reynolds(org_y_dim, omega, top_vel))"
   ]
  },
  {
   "cell_type": "code",
   "execution_count": 28,
   "metadata": {},
   "outputs": [],
   "source": [
    "%%px\n",
    "def sync_f(cartcomm: MPI.Cartcomm, shifts: Tuple, f_cxy: np.array):\n",
    "    sL,dL, sR,dR, sU,dU, sD, dD = shifts\n",
    "\n",
    "    # copy to left\n",
    "    recvbuf = f_cxy[:, -1, :].copy()\n",
    "    cartcomm.Sendrecv(f_cxy[:, 1, :].copy(), dest=dL, recvbuf=recvbuf, source=sL)\n",
    "    f_cxy[:, -1, :] = recvbuf\n",
    "\n",
    "    # copy right\n",
    "    recvbuf = f_cxy[:, 0, :].copy()\n",
    "    cartcomm.Sendrecv(f_cxy[:, -2, :].copy(), dest=dR, recvbuf=recvbuf, source=sR)\n",
    "    f_cxy[:, 0, :] = recvbuf\n",
    "    \n",
    "    recvbuf = f_cxy[:, :, -1].copy()\n",
    "    cartcomm.Sendrecv(f_cxy[:, :, 1].copy(), dest=dU, recvbuf=recvbuf, source=sU)\n",
    "    f_cxy[:, :, -1] = recvbuf\n",
    "    \n",
    "    recvbuf = f_cxy[:, :, 0].copy()\n",
    "    cartcomm.Sendrecv(f_cxy[:, :, -2].copy(), dest=dD, recvbuf=recvbuf, source=sD)\n",
    "    f_cxy[:, :, 0] = recvbuf\n",
    "\n",
    "    return f_cxy"
   ]
  },
  {
   "cell_type": "code",
   "execution_count": 29,
   "metadata": {},
   "outputs": [],
   "source": [
    "%%px\n",
    "import warnings\n",
    "warnings.filterwarnings('ignore')\n",
    "\n",
    "def sync_shifts(cartcomm: MPI.Cartcomm):\n",
    "    sL, dL = cartcomm.Shift(0, -1)\n",
    "    sR, dR = cartcomm.Shift(0, 1)\n",
    "    sD, dD = cartcomm.Shift(1, 1)\n",
    "    sU, dU = cartcomm.Shift(1, -1)\n",
    "    shifts = (sL,dL, sR,dR, sU,dU, sD, dD)\n",
    "    return shifts\n",
    "\n",
    "x_dim = org_x_dim // sync_rows\n",
    "y_dim = org_y_dim // sync_cols\n",
    "# x_dim = org_x_dim\n",
    "# y_dim = org_y_dim\n",
    "r_xy = lbm.density_init(x_dim=x_dim, y_dim=y_dim, r_mean=1.0, eps=0.0)\n",
    "u_axy = lbm.local_avg_velocity_init(x_dim=x_dim, y_dim=y_dim, u_mean=0.0, eps=0.0)\n",
    "f_cxy = lbm.f_eq(u_axy=u_axy, r_xy=r_xy)\n",
    "shifts = sync_shifts(cartcomm)\n",
    "\n",
    "for t in range(epochs):\n",
    "    f_cxy = sync_f(cartcomm, shifts, f_cxy)\n",
    "    f_cxy = lbm.stream(f_cxy=f_cxy)\n",
    "    rank = cartcomm.Get_rank()\n",
    "    coords = cartcomm.Get_coords(rank)\n",
    "    if coords[1] == y_sects -1:\n",
    "    # if coords == [1,1] or coords == [0,1]:\n",
    "        f_cxy = lbm.apply_sliding_top_wall_simple(f_cxy=f_cxy, velocity=top_vel)\n",
    "    if coords[1] == 0:\n",
    "    # if coords == [0,0] or coords == [1,0]:\n",
    "    #     f_cxy = lbm.sliding_bottom_wall(f_cxy=f_cxy)\n",
    "        f_cxy = lbm.bottom_wall(f_cxy=f_cxy)\n",
    "    if coords[0] == 0:\n",
    "    # if coords == [0,0] or coords == [0,1]:\n",
    "    #     f_cxy = lbm.sliding_left_wall(f_cxy=f_cxy)\n",
    "        f_cxy = lbm.left_wall(f_cxy=f_cxy)\n",
    "    if coords[0] == x_sects -1:\n",
    "    # if coords == [1,0] or coords == [1,1]:\n",
    "    #     f_cxy = lbm.sliding_right_wall(f_cxy=f_cxy)\n",
    "        f_cxy = lbm.right_wall(f_cxy=f_cxy)\n",
    "\n",
    "    f_cxy, u_axy = lbm.collision(f_cxy=f_cxy, omega=omega)\n",
    "\n",
    "\n",
    "dir = \"/home/joe/repos/pylbm/milestones/m7/\"\n",
    "save_mpiio(cartcomm, dir+'./ux.npy', u_axy[0, :, :])\n",
    "save_mpiio(cartcomm, dir+'./uy.npy', u_axy[1, :, :])\n"
   ]
  },
  {
   "cell_type": "code",
   "execution_count": 1,
   "metadata": {},
   "outputs": [
    {
     "data": {
      "image/png": "[encoded data removed]",
      "text/plain": [
       "<Figure size 432x288 with 1 Axes>"
      ]
     },
     "metadata": {
      "needs_background": "light"
     },
     "output_type": "display_data"
    }
   ],
   "source": [
    "import matplotlib.pyplot as plt\n",
    "import numpy as np\n",
    "ux_kl = np.load('./ux.npy')\n",
    "uy_kl = np.load('./uy.npy')\n",
    "\n",
    "nx, ny = ux_kl.shape\n",
    "\n",
    "plt.figure()\n",
    "x_k = np.arange(nx)\n",
    "y_l = np.arange(ny)\n",
    "plt.streamplot(x_k, y_l, ux_kl.T, uy_kl.T)\n",
    "plt.show()"
   ]
  },
  {
   "cell_type": "code",
   "execution_count": null,
   "metadata": {},
   "outputs": [],
   "source": []
  },
  {
   "cell_type": "code",
   "execution_count": 17,
   "metadata": {},
   "outputs": [
    {
     "name": "stdout",
     "output_type": "stream",
     "text": [
      "1\n",
      "4\n",
      "9\n",
      "16\n",
      "25\n",
      "36\n",
      "100\n",
      "144\n",
      "225\n",
      "400\n",
      "625\n"
     ]
    }
   ],
   "source": [
    "for i in range(1,30):\n",
    "    if 300%i == 0:\n",
    "        print(i*i)"
   ]
  },
  {
   "cell_type": "code",
   "execution_count": null,
   "metadata": {},
   "outputs": [],
   "source": []
  }
 ],
 "metadata": {
  "kernelspec": {
   "display_name": "Python 3.8.2 64-bit",
   "language": "python",
   "name": "python3"
  },
  "language_info": {
   "codemirror_mode": {
    "name": "ipython",
    "version": 3
   },
   "file_extension": ".py",
   "mimetype": "text/x-python",
   "name": "python",
   "nbconvert_exporter": "python",
   "pygments_lexer": "ipython3",
   "version": "3.8.10"
  },
  "orig_nbformat": 4,
  "vscode": {
   "interpreter": {
    "hash": "916dbcbb3f70747c44a77c7bcd40155683ae19c65e1c03b4aa3499c5328201f1"
   }
  }
 },
 "nbformat": 4,
 "nbformat_minor": 2
}
