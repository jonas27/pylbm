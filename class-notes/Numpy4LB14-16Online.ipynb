{
 "cells": [
  {
   "cell_type": "markdown",
   "id": "2ce29b82",
   "metadata": {},
   "source": [
    "# Numpy methods for Streaming and Collision"
   ]
  },
  {
   "cell_type": "code",
   "execution_count": 2,
   "id": "09350c38",
   "metadata": {},
   "outputs": [],
   "source": [
    "import numpy as np\n",
    "import matplotlib.pyplot as plt"
   ]
  },
  {
   "cell_type": "markdown",
   "id": "a1204606",
   "metadata": {},
   "source": [
    "### The streaming operator\n",
    "For this purpose we need the numpy method roll of arrays"
   ]
  },
  {
   "cell_type": "code",
   "execution_count": 3,
   "id": "dc2102df",
   "metadata": {},
   "outputs": [
    {
     "name": "stdout",
     "output_type": "stream",
     "text": [
      "[ 0  1  2  3  4  5  6  7  8  9 10 11 12 13 14 15 16 17 18 19 20 21 22 23\n",
      " 24 25 26 27 28 29 30 31 32 33 34]\n"
     ]
    }
   ],
   "source": [
    "# Create an array and print it\n",
    "a = np.arange(5*7)\n",
    "print(a)"
   ]
  },
  {
   "cell_type": "code",
   "execution_count": 4,
   "id": "6929407f",
   "metadata": {},
   "outputs": [
    {
     "name": "stdout",
     "output_type": "stream",
     "text": [
      "[[ 0  1  2  3  4  5  6]\n",
      " [ 7  8  9 10 11 12 13]\n",
      " [14 15 16 17 18 19 20]\n",
      " [21 22 23 24 25 26 27]\n",
      " [28 29 30 31 32 33 34]]\n"
     ]
    }
   ],
   "source": [
    "# reshape it to a rectangular array\n",
    "b = a.reshape((5,7))\n",
    "print(b)"
   ]
  },
  {
   "cell_type": "code",
   "execution_count": 5,
   "id": "d39e4463",
   "metadata": {},
   "outputs": [
    {
     "ename": "NameError",
     "evalue": "name 'c_ca' is not defined",
     "output_type": "error",
     "traceback": [
      "\u001b[0;31m---------------------------------------------------------------------------\u001b[0m",
      "\u001b[0;31mNameError\u001b[0m                                 Traceback (most recent call last)",
      "\u001b[1;32m/home/joe/repos/high-performance-python-lbm/class-notes/Numpy4LB14-16Online.ipynb Cell 6'\u001b[0m in \u001b[0;36m<cell line: 5>\u001b[0;34m()\u001b[0m\n\u001b[1;32m      <a href='vscode-notebook-cell://wsl%2Bubuntu/home/joe/repos/high-performance-python-lbm/class-notes/Numpy4LB14-16Online.ipynb#ch0000005vscode-remote?line=2'>3</a>\u001b[0m plt\u001b[39m.\u001b[39mrcParams[\u001b[39m'\u001b[39m\u001b[39mxtick.labeltop\u001b[39m\u001b[39m'\u001b[39m] \u001b[39m=\u001b[39m \u001b[39mTrue\u001b[39;00m\n\u001b[1;32m      <a href='vscode-notebook-cell://wsl%2Bubuntu/home/joe/repos/high-performance-python-lbm/class-notes/Numpy4LB14-16Online.ipynb#ch0000005vscode-remote?line=3'>4</a>\u001b[0m \u001b[39m# Roll it in different direction\u001b[39;00m\n\u001b[0;32m----> <a href='vscode-notebook-cell://wsl%2Bubuntu/home/joe/repos/high-performance-python-lbm/class-notes/Numpy4LB14-16Online.ipynb#ch0000005vscode-remote?line=4'>5</a>\u001b[0m c \u001b[39m=\u001b[39m np\u001b[39m.\u001b[39mroll(b,shift \u001b[39m=\u001b[39m c_ca[\u001b[39m2\u001b[39m],axis \u001b[39m=\u001b[39m (\u001b[39m1\u001b[39m,\u001b[39m0\u001b[39m))\n\u001b[1;32m      <a href='vscode-notebook-cell://wsl%2Bubuntu/home/joe/repos/high-performance-python-lbm/class-notes/Numpy4LB14-16Online.ipynb#ch0000005vscode-remote?line=5'>6</a>\u001b[0m \u001b[39mprint\u001b[39m(c)\n\u001b[1;32m      <a href='vscode-notebook-cell://wsl%2Bubuntu/home/joe/repos/high-performance-python-lbm/class-notes/Numpy4LB14-16Online.ipynb#ch0000005vscode-remote?line=6'>7</a>\u001b[0m \u001b[39m#\u001b[39;00m\n",
      "\u001b[0;31mNameError\u001b[0m: name 'c_ca' is not defined"
     ]
    }
   ],
   "source": [
    "%matplotlib notebook\n",
    "plt.rcParams['xtick.labelbottom'] = False\n",
    "plt.rcParams['xtick.labeltop'] = True\n",
    "# Roll it in different direction\n",
    "c = np.roll(b,shift = c_ca[2],axis = (1,0))\n",
    "print(c)\n",
    "#\n",
    "column_labels = list('0123456')\n",
    "row_labels = list('01234')\n",
    "#data = np.random.rand(5, 6)\n",
    "fig, ax = plt.subplots()\n",
    "data = c/a[-1]\n",
    "heatmap = ax.pcolor(data, cmap=plt.cm.Reds)\n",
    "# put the major ticks at the middle of each cell\n",
    "ax.set_xticks(np.arange(data.shape[1]) + 0.5, minor=False)\n",
    "ax.set_yticks(np.arange(data.shape[0]) + 0.5, minor=False)\n",
    "ax.invert_yaxis()\n",
    "ax.xaxis.tick_top()\n",
    "#\n",
    "ax.set_xticklabels(column_labels, minor=False)\n",
    "ax.set_yticklabels(row_labels, minor=False)\n",
    "ax.set_ylabel('axis 0, first  index')\n",
    "ax.set_title('axis 1, second index')\n",
    "plt.show() "
   ]
  },
  {
   "cell_type": "code",
   "execution_count": 6,
   "id": "75244a70",
   "metadata": {},
   "outputs": [],
   "source": [
    "f_cij = np.ones((9,5,7))\n",
    "c_ca = np.array([[0, 1, 0, -1, 0, 1, -1, -1, 1],\n",
    "                 [0, 0, -1, 0 ,1, -1, -1, 1, 1]]).T     # These are the velocities of the channels\n",
    "#\n",
    "for k in np.arange(9):\n",
    "    f_cij[k] = np.roll(f_cij[k],c_ca[k],axis = (1,0))"
   ]
  },
  {
   "cell_type": "markdown",
   "id": "4a1c64a8",
   "metadata": {},
   "source": [
    "### Collision operator\n",
    "To calculate the outcome of the collision \n",
    "$$ f_i+\\omega(f_i^{eq}-f_i)$$\n",
    "We need to know the average velocity at $\\mathbf{r}$ and the denisty $n(\\mathbf{r})$."
   ]
  },
  {
   "cell_type": "code",
   "execution_count": null,
   "id": "f1a4ea09",
   "metadata": {},
   "outputs": [],
   "source": [
    "f_cij = np.ones((9,5,7))\n",
    "c_ca = np.array([[0, 1, 0, -1, 0, 1, -1, -1, 1],\n",
    "                 [0, 0, -1, 0 ,1, -1, -1, 1, 1]]).T     # These are the velocities of the channels"
   ]
  },
  {
   "cell_type": "code",
   "execution_count": null,
   "id": "16df99a1",
   "metadata": {
    "lines_to_next_cell": 2
   },
   "outputs": [],
   "source": [
    "w_c = np.array([4/9,1/9,1/9,1/9,1/9,1/36,1/36,1/36,1/36])  # equilibrium occupation numbers"
   ]
  },
  {
   "cell_type": "code",
   "execution_count": null,
   "id": "9daf9366",
   "metadata": {},
   "outputs": [],
   "source": [
    "for c in np.arange(9): f_cij[c] = w_c[c]"
   ]
  },
  {
   "cell_type": "code",
   "execution_count": null,
   "id": "73d5ae48",
   "metadata": {},
   "outputs": [],
   "source": [
    "f_cij[:] = w_c[:,np.newaxis,np.newaxis]"
   ]
  },
  {
   "cell_type": "code",
   "execution_count": null,
   "id": "4bb58a29",
   "metadata": {},
   "outputs": [],
   "source": [
    "f_cij[1] = f_cij[1]+0.01\n",
    "f_cij[3] = f_cij[3]-0.01"
   ]
  },
  {
   "cell_type": "code",
   "execution_count": null,
   "id": "e2fe5d3d",
   "metadata": {},
   "outputs": [],
   "source": [
    "u_aij = np.einsum('cij,ca->aij',f_cij,c_ca)"
   ]
  },
  {
   "cell_type": "code",
   "execution_count": null,
   "id": "658a0979",
   "metadata": {},
   "outputs": [],
   "source": [
    "u_aij"
   ]
  },
  {
   "cell_type": "code",
   "execution_count": null,
   "id": "2f6e77a0",
   "metadata": {},
   "outputs": [],
   "source": [
    "rho_ij = np.einsum('cij->ij',f_cij)"
   ]
  },
  {
   "cell_type": "code",
   "execution_count": null,
   "id": "8a5af8ef",
   "metadata": {},
   "outputs": [],
   "source": [
    "rho_ij"
   ]
  },
  {
   "cell_type": "code",
   "execution_count": null,
   "id": "ca409834",
   "metadata": {},
   "outputs": [],
   "source": []
  }
 ],
 "metadata": {
  "interpreter": {
   "hash": "fc639d457c6382e7e0c6fefa32aeb4748843c0c34b760fb24ddd57087e5cd928"
  },
  "kernelspec": {
   "display_name": "Python 3.9.12 ('high')",
   "language": "python",
   "name": "python3"
  },
  "language_info": {
   "codemirror_mode": {
    "name": "ipython",
    "version": 3
   },
   "file_extension": ".py",
   "mimetype": "text/x-python",
   "name": "python",
   "nbconvert_exporter": "python",
   "pygments_lexer": "ipython3",
   "version": "3.9.12"
  }
 },
 "nbformat": 4,
 "nbformat_minor": 5
}
